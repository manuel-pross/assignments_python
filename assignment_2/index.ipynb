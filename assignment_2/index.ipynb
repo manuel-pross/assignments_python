{
 "cells": [
  {
   "cell_type": "code",
   "execution_count": null,
   "metadata": {},
   "outputs": [],
   "source": [
    "import sys\n",
    "!{sys.executable} -m pip install numpy\n",
    "import sys\n",
    "!{sys.executable} -m pip install surprise\n",
    "\n",
    "from surprise import Dataset, SlopeOne, accuracy\n",
    "from surprise.model_selection import train_test_split\n",
    "from collections import defaultdict\n",
    "\n",
    "data = Dataset.load_builtin(\"ml-100k\")\n",
    "trainset, testset= train_test_split(data, test_size=.30)\n",
    "\n",
    "algo= SlopeOne()\n",
    "algo.fit(trainset)\n",
    "\n",
    "predictions= algo.test(testset)"
   ]
  },
  {
   "cell_type": "markdown",
   "metadata": {},
   "source": [
    "Calculate the MAE"
   ]
  },
  {
   "cell_type": "code",
   "execution_count": 74,
   "metadata": {},
   "outputs": [
    {
     "name": "stdout",
     "output_type": "stream",
     "text": [
      "MAE:  0.7469\n"
     ]
    },
    {
     "data": {
      "text/plain": [
       "0.7469407308896715"
      ]
     },
     "execution_count": 74,
     "metadata": {},
     "output_type": "execute_result"
    }
   ],
   "source": [
    "accuracy.mae(predictions, verbose=\"true\")"
   ]
  },
  {
   "cell_type": "code",
   "execution_count": 29,
   "metadata": {},
   "outputs": [],
   "source": [
    "def get_top_n(predictions, n=10):\n",
    "    top_n = defaultdict(list)\n",
    "    for uid, iid, true_r, est, _ in predictions:\n",
    "        top_n[uid].append((iid, est, true_r))\n",
    "\n",
    "    # Then sort the predictions for each user and retrieve the k highest ones.\n",
    "    for uid, user_ratings in top_n.items():\n",
    "        user_ratings.sort(key=lambda x: x[1], reverse=True)\n",
    "        top_n[uid] = user_ratings[:n]\n",
    "\n",
    "    return top_n"
   ]
  },
  {
   "cell_type": "code",
   "execution_count": 66,
   "metadata": {},
   "outputs": [
    {
     "name": "stdout",
     "output_type": "stream",
     "text": [
      "User 20 werden folgende Filme vorgeschlagen: ['498', '176', '210', '144', '11', '588', '633', '15', '568', '742']\n"
     ]
    }
   ],
   "source": [
    "top_n = get_top_n(predictions, n=10)\n",
    "\n",
    "#get the user 310 with the recommended films\n",
    "#print(top_n.get('310'))\n",
    "def getUserAndMovie(user):\n",
    "    movie = []\n",
    "    for i in top_n.get(user):\n",
    "        movie.append(i[0])\n",
    "    #print(\"User {} has the .\".format(user))\n",
    "    print(\"User {} werden folgende Filme vorgeschlagen: {}\".format(user,movie))\n",
    "\n",
    "getUserAndMovie('20')\n"
   ]
  },
  {
   "cell_type": "markdown",
   "metadata": {},
   "source": [
    "Get all Recommendations for all users"
   ]
  },
  {
   "cell_type": "code",
   "execution_count": null,
   "metadata": {},
   "outputs": [],
   "source": [
    "def getAllRecommendatios(predictions):\n",
    "    top_n = defaultdict(list)\n",
    "    for uid, iid, true_r, est, _ in predictions:\n",
    "        top_n[uid].append((iid, est, true_r))\n",
    "\n",
    "    # Then sort the predictions for each user and retrieve the k highest ones.\n",
    "    for uid, user_ratings in top_n.items():\n",
    "        user_ratings.sort(key=lambda x: x[1], reverse=True)\n",
    "        top_n[uid] = user_ratings\n",
    "    return top_n"
   ]
  },
  {
   "cell_type": "markdown",
   "metadata": {},
   "source": [
    "Get all recommendations for a single user"
   ]
  },
  {
   "cell_type": "code",
   "execution_count": 56,
   "metadata": {},
   "outputs": [
    {
     "name": "stdout",
     "output_type": "stream",
     "text": [
      "[('498', 3.7804845352783643, 3.0), ('176', 3.489600727948631, 2.0), ('210', 3.3911860076560147, 4.0), ('144', 3.3884759416917047, 2.0), ('11', 3.3336478765059985, 2.0), ('588', 3.218343725571977, 4.0), ('633', 3.1773845000343703, 4.0), ('15', 3.1422848331058035, 4.0), ('568', 3.121614333663654, 4.0), ('742', 3.0021898501921442, 4.0), ('288', 2.844954240906101, 1.0), ('866', 2.548905141123791, 1.0), ('597', 2.510388949880468, 3.0), ('252', 2.255047361828688, 4.0), ('934', 2.107212488232249, 4.0), ('243', 1.6385438496089433, 4.0), ('931', 1.4850228900778943, 1.0)]\n"
     ]
    }
   ],
   "source": [
    "def getRecommendations(user):\n",
    "    return getAllRecommendatios(predictions).get(user)\n",
    "\n",
    "print(getRecommendations('20'))"
   ]
  },
  {
   "cell_type": "markdown",
   "metadata": {},
   "source": [
    "Calculate precision"
   ]
  },
  {
   "cell_type": "markdown",
   "metadata": {},
   "source": [
    "Aufgabe 2 – Implementierung von Precision und Recall\n",
    "a) Implementieren Sie eine Funktion, um die Precision basierend auf Ihrem Testest aus Aufgabe 1 zu berechnen."
   ]
  },
  {
   "cell_type": "code",
   "execution_count": 65,
   "metadata": {},
   "outputs": [
    {
     "name": "stdout",
     "output_type": "stream",
     "text": [
      "Items relevant: 5\n",
      "Items recommended: 8\n",
      "Precision: 0.625\n"
     ]
    }
   ],
   "source": [
    "import math\n",
    "def isItemRelevant(item):\n",
    "    if item[2]>=3:\n",
    "        return True\n",
    "    else:\n",
    "        return False\n",
    "\n",
    "def calcPrecision(rec):\n",
    "    relevantScore = 0\n",
    "    for i in range(math.floor(len(rec)/2)):\n",
    "        if isItemRelevant(rec[i]):\n",
    "            relevantScore+=1\n",
    "\n",
    "    print(\"Items relevant: {}\".format(relevantScore))\n",
    "    print(\"Items recommended: {}\".format(math.floor(len(rec)/2)))\n",
    "    return relevantScore/math.floor(len(rec)/2)\n",
    "\n",
    "print(\"Precision: {}\".format(calcPrecision(getRecommendations('20'))))\n",
    "\n"
   ]
  },
  {
   "cell_type": "markdown",
   "metadata": {},
   "source": [
    "b) Implementieren Sie eine Funktion, um den Recall basierend auf Ihrem Testest aus Aufgabe 1 zu berechnen. Welche Annahmen haben Sie dafür getroffen?"
   ]
  },
  {
   "cell_type": "code",
   "execution_count": 64,
   "metadata": {},
   "outputs": [
    {
     "name": "stdout",
     "output_type": "stream",
     "text": [
      "Items recommended relevant: 5\n",
      "All relevant items: 11\n",
      "Recall: 0.45454545454545453\n"
     ]
    }
   ],
   "source": [
    "def isItemRelevant(item):\n",
    "    if item[2]>=3:\n",
    "        return True\n",
    "    else:\n",
    "        return False\n",
    "\n",
    "def calcRecall(rec):\n",
    "    relevantScore = 0\n",
    "    allRelevantScore = 0\n",
    "    for i in range(math.floor(len(rec)/2)):\n",
    "        if isItemRelevant(rec[i]):\n",
    "            relevantScore+=1\n",
    "\n",
    "    for i in range(len(rec)):\n",
    "        if isItemRelevant(rec[i]):\n",
    "            allRelevantScore+=1\n",
    "\n",
    "    print(\"Items recommended relevant: {}\".format(relevantScore))\n",
    "    print(\"All relevant items: {}\".format(allRelevantScore))\n",
    "    return relevantScore/allRelevantScore\n",
    "\n",
    "print(\"Recall: {}\".format(calcRecall(getRecommendations('20'))))"
   ]
  },
  {
   "cell_type": "markdown",
   "metadata": {},
   "source": [
    "Aufgabe 3)\n",
    "a) Wiederholen Sie die Experimente aus Aufgabe 1 und Aufgabe 2 mit dem Book-Crossing Dataset3. Sie können auch gerne einen anderen Algorithmus dafür anwenden."
   ]
  },
  {
   "cell_type": "code",
   "execution_count": 1,
   "metadata": {},
   "outputs": [
    {
     "ename": "",
     "evalue": "",
     "output_type": "error",
     "traceback": [
      "\u001b[1;31mCanceled future for execute_request message before replies were done"
     ]
    },
    {
     "ename": "",
     "evalue": "",
     "output_type": "error",
     "traceback": [
      "\u001b[1;31mThe Kernel crashed while executing code in the the current cell or a previous cell. Please review the code in the cell(s) to identify a possible cause of the failure. Click <a href='https://aka.ms/vscodeJupyterKernelCrash'>here</a> for more info. View Jupyter <a href='command:jupyter.viewOutput'>log</a> for further details."
     ]
    }
   ],
   "source": [
    "import os\n",
    "\n",
    "from surprise import Dataset, Reader, SlopeOne\n",
    "from surprise.model_selection import train_test_split\n",
    "# path to dataset file\n",
    "file_path = os.path.expanduser(\"./BX-Book-Ratings.csv\")\n",
    "\n",
    "reader = Reader(line_format=\"user item rating\", sep=\";\")\n",
    "\n",
    "data = Dataset.load_from_file(file_path, reader=reader)\n",
    "\n",
    "trainset, testset= train_test_split(data, test_size=.30)\n",
    "\n",
    "algo= SlopeOne()\n",
    "algo.fit(trainset)\n",
    "\n",
    "predictions= algo.test(testset)"
   ]
  },
  {
   "cell_type": "markdown",
   "metadata": {},
   "source": [
    "Calculate the MAE"
   ]
  },
  {
   "cell_type": "code",
   "execution_count": null,
   "metadata": {},
   "outputs": [],
   "source": [
    "accuracy.mae(predictions, verbose=\"true\")"
   ]
  }
 ],
 "metadata": {
  "kernelspec": {
   "display_name": "Python 3.9.15 64-bit",
   "language": "python",
   "name": "python3"
  },
  "language_info": {
   "codemirror_mode": {
    "name": "ipython",
    "version": 3
   },
   "file_extension": ".py",
   "mimetype": "text/x-python",
   "name": "python",
   "nbconvert_exporter": "python",
   "pygments_lexer": "ipython3",
   "version": "3.9.15"
  },
  "orig_nbformat": 4,
  "vscode": {
   "interpreter": {
    "hash": "397704579725e15f5c7cb49fe5f0341eb7531c82d19f2c29d197e8b64ab5776b"
   }
  }
 },
 "nbformat": 4,
 "nbformat_minor": 2
}
