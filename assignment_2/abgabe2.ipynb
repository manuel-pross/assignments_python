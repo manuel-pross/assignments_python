{
 "cells": [
  {
   "cell_type": "code",
   "execution_count": 149,
   "metadata": {},
   "outputs": [],
   "source": [
    "from surprise import Dataset, SlopeOne, accuracy\n",
    "from surprise.model_selection import train_test_split\n",
    "\n",
    "data = Dataset.load_builtin('ml-100k')\n",
    "trainset, testset = train_test_split(data, test_size=.20)\n",
    "\n",
    "algo = SlopeOne()\n",
    "algo.fit(trainset)\n",
    "predictions = algo.test(testset)"
   ]
  },
  {
   "cell_type": "markdown",
   "metadata": {},
   "source": []
  },
  {
   "cell_type": "code",
   "execution_count": 150,
   "metadata": {},
   "outputs": [
    {
     "name": "stdout",
     "output_type": "stream",
     "text": [
      "[('483', 3.8717673798165078, 4.0), ('64', 3.826053281522885, 5.0), ('98', 3.740847268529482, 4.0), ('178', 3.7110754877947545, 3.0), ('511', 3.6688484171312794, 4.0), ('187', 3.638971800333408, 4.0), ('172', 3.638568604716287, 3.0), ('22', 3.5486374191432946, 5.0), ('496', 3.542071281143104, 4.0), ('515', 3.5276638454935227, 4.0), ('56', 3.522200946060491, 5.0), ('478', 3.5210563575396763, 3.0), ('488', 3.484534294418932, 3.0), ('520', 3.4636197338524415, 5.0), ('651', 3.4547797655857515, 3.0), ('647', 3.4541607477518763, 4.0), ('705', 3.3197545537455806, 2.0), ('736', 3.3036752967028944, 2.0), ('177', 3.295598642528341, 3.0), ('1', 3.2712045081968815, 4.0), ('663', 3.2443633569073995, 4.0), ('588', 3.214702783794811, 4.0), ('521', 3.2124818637097188, 4.0), ('509', 3.1982490629353286, 3.0), ('837', 3.1888024412355116, 4.0), ('425', 3.183300418828113, 2.0), ('202', 3.1737169557990876, 3.0), ('157', 3.1514148636195474, 4.0), ('443', 3.1432849315307054, 3.0), ('71', 3.142619834517308, 4.0), ('485', 3.138194473458157, 3.0), ('660', 3.1317460925723495, 3.0), ('215', 3.122727181874753, 3.0), ('502', 3.1084304143276618, 4.0), ('286', 3.0913797108109056, 1.0), ('276', 3.0896670611708443, 3.0), ('466', 3.0685195376725667, 4.0), ('91', 3.02356714461661, 3.0), ('81', 2.990836932308036, 2.0), ('237', 2.988425296915489, 3.0), ('222', 2.986705962185581, 1.0), ('70', 2.9760207198401805, 3.0), ('566', 2.962039283545033, 4.0), ('770', 2.8898191225494987, 4.0), ('73', 2.8601529326198407, 3.0), ('393', 2.813204367943877, 2.0), ('161', 2.803274690782776, 4.0), ('402', 2.7640751673323134, 3.0), ('1044', 2.7621254798231973, 2.0), ('625', 2.738168989636882, 3.0), ('387', 2.681189116604739, 2.0), ('226', 2.662360269754306, 3.0), ('744', 2.6505801178598967, 3.0), ('1220', 2.6490152506636573, 3.0), ('550', 2.610086400244799, 3.0), ('640', 2.5827170814229485, 1.0), ('62', 2.5407160776755684, 2.0), ('739', 2.53513313071392, 3.0), ('946', 2.527841478378866, 3.0), ('321', 2.4853894002206087, 3.0), ('1107', 2.430776687081035, 3.0), ('294', 2.4070806611293203, 4.0), ('67', 2.3644527849742483, 1.0), ('90', 2.3610192147094677, 3.0), ('808', 2.1552027143971575, 2.0), ('623', 2.111776026924831, 1.0), ('376', 2.0203680169355303, 2.0), ('542', 1.9312094315547277, 3.0), ('783', 1.8304107539499015, 2.0), ('78', 1.8211055508706606, 1.0), ('1207', 1.6451276826276826, 1.0)]\n"
     ]
    }
   ],
   "source": [
    "searchedUserId = testset[0][0]\n",
    "\n",
    "def findGoodItemsTask(predictions, userId=1):\n",
    "    allRecomandations = []\n",
    "\n",
    "    for uid, iid, true_r, est, _ in predictions:\n",
    "        if uid == userId:\n",
    "            allRecomandations.append((iid, est, true_r))\n",
    "\n",
    "    return sorted(allRecomandations, key=lambda recommendation: recommendation[1], reverse=True)\n",
    "\n",
    "recommendations = findGoodItemsTask(predictions, userId=searchedUserId)\n",
    "print(recommendations)"
   ]
  },
  {
   "cell_type": "code",
   "execution_count": 151,
   "metadata": {},
   "outputs": [
    {
     "name": "stdout",
     "output_type": "stream",
     "text": [
      "RMSE: 0.8347\n"
     ]
    },
    {
     "data": {
      "text/plain": [
       "0.834678886413234"
      ]
     },
     "execution_count": 151,
     "metadata": {},
     "output_type": "execute_result"
    }
   ],
   "source": [
    "for index, recommendation in enumerate(recommendations):\n",
    "    recommendations[index] = (searchedUserId, recommendation[0], recommendation[1], recommendation[2], {'was_impossible': False})\n",
    "\n",
    "accuracy.rmse(recommendations)"
   ]
  },
  {
   "cell_type": "code",
   "execution_count": 152,
   "metadata": {},
   "outputs": [
    {
     "name": "stdout",
     "output_type": "stream",
     "text": [
      "threshhold: 69\n",
      "relevant items: 29\n"
     ]
    },
    {
     "data": {
      "text/plain": [
       "0.42028985507246375"
      ]
     },
     "execution_count": 152,
     "metadata": {},
     "output_type": "execute_result"
    }
   ],
   "source": [
    "def isItemRelevant(item):\n",
    "    if (item[2] - item[3]) >= 0 and (item[2] - item[3]) <= 3:\n",
    "        return True\n",
    "    return False\n",
    "        \n",
    "\n",
    "def calculatePrecision(recommendations, threshold=1):\n",
    "    relevantItemsRecommended = 0\n",
    "    for i in range(threshold):\n",
    "        if isItemRelevant(recommendations[i]):\n",
    "            relevantItemsRecommended += 1\n",
    "    print(f'threshhold: {threshold}')\n",
    "    print(f'relevant items: {relevantItemsRecommended}')\n",
    "    return relevantItemsRecommended/threshold\n",
    "\n",
    "\n",
    "calculatePrecision(recommendations, len(recommendations)-3)"
   ]
  },
  {
   "cell_type": "code",
   "execution_count": 166,
   "metadata": {},
   "outputs": [
    {
     "name": "stdout",
     "output_type": "stream",
     "text": [
      "29\n",
      "31\n"
     ]
    },
    {
     "data": {
      "text/plain": [
       "0.9354838709677419"
      ]
     },
     "execution_count": 166,
     "metadata": {},
     "output_type": "execute_result"
    }
   ],
   "source": [
    "def calculateRecall(recommendations, threshold=1):\n",
    "    relevantItemsRecommended = 0\n",
    "    for i in range(threshold):\n",
    "        if isItemRelevant(recommendations[i]):\n",
    "            relevantItemsRecommended += 1\n",
    "\n",
    "    allRelevantItems = 0\n",
    "    for i in range(len(recommendations)):\n",
    "        if isItemRelevant(recommendations[i]):\n",
    "            allRelevantItems += 1\n",
    "\n",
    "    print(relevantItemsRecommended)\n",
    "    print(allRelevantItems)\n",
    "    return relevantItemsRecommended/allRelevantItems\n",
    "\n",
    "calculateRecall(recommendations, len(recommendations)-3)"
   ]
  }
 ],
 "metadata": {
  "kernelspec": {
   "display_name": "Python 3.11.0 64-bit",
   "language": "python",
   "name": "python3"
  },
  "language_info": {
   "codemirror_mode": {
    "name": "ipython",
    "version": 3
   },
   "file_extension": ".py",
   "mimetype": "text/x-python",
   "name": "python",
   "nbconvert_exporter": "python",
   "pygments_lexer": "ipython3",
   "version": "3.11.0"
  },
  "orig_nbformat": 4,
  "vscode": {
   "interpreter": {
    "hash": "5238573367df39f7286bb46f9ff5f08f63a01a80960060ce41e3c79b190280fa"
   }
  }
 },
 "nbformat": 4,
 "nbformat_minor": 2
}
