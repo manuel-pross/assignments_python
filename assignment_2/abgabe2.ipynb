{
 "cells": [
  {
   "cell_type": "code",
   "execution_count": 63,
   "metadata": {},
   "outputs": [],
   "source": [
    "from surprise import Dataset, SlopeOne, accuracy\n",
    "from surprise.model_selection import train_test_split\n",
    "\n",
    "data = Dataset.load_builtin('ml-100k')\n",
    "trainset, testset = train_test_split(data, test_size=.20)\n",
    "\n",
    "algo = SlopeOne()\n",
    "algo.fit(trainset)\n",
    "predictions = algo.test(testset)"
   ]
  },
  {
   "cell_type": "markdown",
   "metadata": {},
   "source": []
  },
  {
   "cell_type": "code",
   "execution_count": 64,
   "metadata": {},
   "outputs": [
    {
     "name": "stdout",
     "output_type": "stream",
     "text": [
      "[('114', 4.185625072812853, 5.0), ('1143', 4.0950999412110525, 4.0), ('483', 4.093846874013185, 4.0), ('603', 3.9989549036050946, 5.0), ('12', 3.9127729544247067, 3.0), ('199', 3.8820153759370246, 3.0), ('23', 3.855594993736645, 5.0), ('528', 3.849500027227572, 4.0), ('251', 3.802837584775191, 2.0), ('136', 3.791486266116302, 3.0), ('520', 3.7510103185733024, 3.0), ('79', 3.726544278833404, 3.0), ('194', 3.6859359867060753, 3.0), ('487', 3.6244451381991163, 4.0), ('504', 3.6195078626511075, 4.0), ('900', 3.5711933348016562, 4.0), ('93', 3.5710588824452323, 3.0), ('514', 3.5137240109953183, 4.0), ('435', 3.510603094666398, 3.0), ('745', 3.4830726233145586, 4.0), ('653', 3.4820092803681404, 4.0), ('1021', 3.4766498465982227, 5.0), ('133', 3.4755059487149653, 1.0), ('216', 3.46236541360478, 2.0), ('156', 3.4566719293490142, 4.0), ('143', 3.4172930571456397, 3.0), ('176', 3.3968700542928563, 2.0), ('492', 3.3621719131075625, 2.0), ('215', 3.357931049416649, 2.0), ('151', 3.35010567917001, 2.0), ('224', 3.338447959528198, 2.0), ('447', 3.3186152042246455, 3.0), ('1070', 3.3166923968978765, 5.0), ('433', 3.3041294912746726, 4.0), ('1012', 3.2899708592512646, 3.0), ('794', 3.266774535021321, 2.0), ('236', 3.261358197796395, 2.0), ('965', 3.2574517541941783, 4.0), ('286', 3.251828496659074, 3.0), ('448', 3.191964131722253, 3.0), ('500', 3.183702655942528, 4.0), ('664', 3.182887391734256, 3.0), ('340', 3.174963595872306, 4.0), ('451', 3.0764948621984063, 1.0), ('111', 2.9528272366811996, 2.0), ('1286', 2.908874269005848, 3.0), ('1017', 2.9075839936538173, 3.0), ('1252', 2.8936036036036037, 5.0), ('954', 2.7746296296296293, 4.0), ('1014', 2.727983731674785, 2.0), ('417', 2.67727966620241, 2.0), ('253', 2.6607175134806713, 3.0), ('240', 2.5408352992512695, 4.0), ('1154', 2.467883880825057, 5.0), ('719', 2.245044393184088, 2.0), ('37', 2.070982905982906, 4.0)]\n"
     ]
    }
   ],
   "source": [
    "searchedUserId = testset[0][0]\n",
    "\n",
    "def findGoodItemsTask(predictions, userId=1):\n",
    "    allRecomandations = []\n",
    "\n",
    "    for uid, iid, true_r, est, _ in predictions:\n",
    "        if uid == userId:\n",
    "            allRecomandations.append((iid, est, true_r))\n",
    "\n",
    "    return sorted(allRecomandations, key=lambda recommendation: recommendation[1], reverse=True)\n",
    "\n",
    "recommendations = findGoodItemsTask(predictions, userId=searchedUserId)\n",
    "print(recommendations)"
   ]
  },
  {
   "cell_type": "code",
   "execution_count": 65,
   "metadata": {},
   "outputs": [
    {
     "name": "stdout",
     "output_type": "stream",
     "text": [
      "[('385', '114', 4.185625072812853, 5.0, {'was_impossible': False}), ('385', '1143', 4.0950999412110525, 4.0, {'was_impossible': False}), ('385', '483', 4.093846874013185, 4.0, {'was_impossible': False}), ('385', '603', 3.9989549036050946, 5.0, {'was_impossible': False}), ('385', '12', 3.9127729544247067, 3.0, {'was_impossible': False}), ('385', '199', 3.8820153759370246, 3.0, {'was_impossible': False}), ('385', '23', 3.855594993736645, 5.0, {'was_impossible': False}), ('385', '528', 3.849500027227572, 4.0, {'was_impossible': False}), ('385', '251', 3.802837584775191, 2.0, {'was_impossible': False}), ('385', '136', 3.791486266116302, 3.0, {'was_impossible': False}), ('385', '520', 3.7510103185733024, 3.0, {'was_impossible': False}), ('385', '79', 3.726544278833404, 3.0, {'was_impossible': False}), ('385', '194', 3.6859359867060753, 3.0, {'was_impossible': False}), ('385', '487', 3.6244451381991163, 4.0, {'was_impossible': False}), ('385', '504', 3.6195078626511075, 4.0, {'was_impossible': False}), ('385', '900', 3.5711933348016562, 4.0, {'was_impossible': False}), ('385', '93', 3.5710588824452323, 3.0, {'was_impossible': False}), ('385', '514', 3.5137240109953183, 4.0, {'was_impossible': False}), ('385', '435', 3.510603094666398, 3.0, {'was_impossible': False}), ('385', '745', 3.4830726233145586, 4.0, {'was_impossible': False}), ('385', '653', 3.4820092803681404, 4.0, {'was_impossible': False}), ('385', '1021', 3.4766498465982227, 5.0, {'was_impossible': False}), ('385', '133', 3.4755059487149653, 1.0, {'was_impossible': False}), ('385', '216', 3.46236541360478, 2.0, {'was_impossible': False}), ('385', '156', 3.4566719293490142, 4.0, {'was_impossible': False}), ('385', '143', 3.4172930571456397, 3.0, {'was_impossible': False}), ('385', '176', 3.3968700542928563, 2.0, {'was_impossible': False}), ('385', '492', 3.3621719131075625, 2.0, {'was_impossible': False}), ('385', '215', 3.357931049416649, 2.0, {'was_impossible': False}), ('385', '151', 3.35010567917001, 2.0, {'was_impossible': False}), ('385', '224', 3.338447959528198, 2.0, {'was_impossible': False}), ('385', '447', 3.3186152042246455, 3.0, {'was_impossible': False}), ('385', '1070', 3.3166923968978765, 5.0, {'was_impossible': False}), ('385', '433', 3.3041294912746726, 4.0, {'was_impossible': False}), ('385', '1012', 3.2899708592512646, 3.0, {'was_impossible': False}), ('385', '794', 3.266774535021321, 2.0, {'was_impossible': False}), ('385', '236', 3.261358197796395, 2.0, {'was_impossible': False}), ('385', '965', 3.2574517541941783, 4.0, {'was_impossible': False}), ('385', '286', 3.251828496659074, 3.0, {'was_impossible': False}), ('385', '448', 3.191964131722253, 3.0, {'was_impossible': False}), ('385', '500', 3.183702655942528, 4.0, {'was_impossible': False}), ('385', '664', 3.182887391734256, 3.0, {'was_impossible': False}), ('385', '340', 3.174963595872306, 4.0, {'was_impossible': False}), ('385', '451', 3.0764948621984063, 1.0, {'was_impossible': False}), ('385', '111', 2.9528272366811996, 2.0, {'was_impossible': False}), ('385', '1286', 2.908874269005848, 3.0, {'was_impossible': False}), ('385', '1017', 2.9075839936538173, 3.0, {'was_impossible': False}), ('385', '1252', 2.8936036036036037, 5.0, {'was_impossible': False}), ('385', '954', 2.7746296296296293, 4.0, {'was_impossible': False}), ('385', '1014', 2.727983731674785, 2.0, {'was_impossible': False}), ('385', '417', 2.67727966620241, 2.0, {'was_impossible': False}), ('385', '253', 2.6607175134806713, 3.0, {'was_impossible': False}), ('385', '240', 2.5408352992512695, 4.0, {'was_impossible': False}), ('385', '1154', 2.467883880825057, 5.0, {'was_impossible': False}), ('385', '719', 2.245044393184088, 2.0, {'was_impossible': False}), ('385', '37', 2.070982905982906, 4.0, {'was_impossible': False})]\n",
      "RMSE: 1.0819\n"
     ]
    },
    {
     "data": {
      "text/plain": [
       "1.0818932072701102"
      ]
     },
     "execution_count": 65,
     "metadata": {},
     "output_type": "execute_result"
    }
   ],
   "source": [
    "for index, recommendation in enumerate(recommendations):\n",
    "    recommendations[index] = (searchedUserId, recommendation[0], recommendation[1], recommendation[2], {'was_impossible': False})\n",
    "\n",
    "accuracy.rmse(recommendations)"
   ]
  }
 ],
 "metadata": {
  "kernelspec": {
   "display_name": "Python 3.11.0 64-bit",
   "language": "python",
   "name": "python3"
  },
  "language_info": {
   "codemirror_mode": {
    "name": "ipython",
    "version": 3
   },
   "file_extension": ".py",
   "mimetype": "text/x-python",
   "name": "python",
   "nbconvert_exporter": "python",
   "pygments_lexer": "ipython3",
   "version": "3.11.0"
  },
  "orig_nbformat": 4,
  "vscode": {
   "interpreter": {
    "hash": "5238573367df39f7286bb46f9ff5f08f63a01a80960060ce41e3c79b190280fa"
   }
  }
 },
 "nbformat": 4,
 "nbformat_minor": 2
}
