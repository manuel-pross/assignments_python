{
 "cells": [
  {
   "cell_type": "code",
   "execution_count": 62,
   "metadata": {},
   "outputs": [],
   "source": [
    "from surprise import Dataset, SlopeOne\n",
    "from surprise.model_selection import train_test_split\n",
    "\n",
    "data = Dataset.load_builtin('ml-100k')\n",
    "trainset, testset = train_test_split(data, test_size=.30)\n",
    "\n",
    "algo = SlopeOne()\n",
    "algo.fit(trainset)\n",
    "predictions = algo.test(testset)"
   ]
  },
  {
   "cell_type": "markdown",
   "metadata": {},
   "source": []
  },
  {
   "cell_type": "code",
   "execution_count": 63,
   "metadata": {},
   "outputs": [
    {
     "name": "stdout",
     "output_type": "stream",
     "text": [
      "[('303', 5, 5.0), ('937', 5, 5.0), ('292', 4.951701216542095, 2.0), ('332', 4.853430026359131, 5.0), ('328', 4.699253650775572, 4.0), ('990', 4.608100379153011, 5.0), ('359', 4.544026733500417, 5.0), ('319', 4.4629980677078835, 3.0), ('1265', 4.351434140907824, 5.0), ('874', 4.349521161911513, 5.0), ('881', 4.142074237526182, 5.0), ('688', 3.450516296568928, 5.0)]\n"
     ]
    }
   ],
   "source": [
    "searchedUserId = testset[0][0]\n",
    "\n",
    "def get_top_n(predictions, userId=1):\n",
    "    allRecomandations = []\n",
    "\n",
    "    for uid, iid, true_r, est, _ in predictions:\n",
    "        if uid == userId:\n",
    "            allRecomandations.append((iid, est, true_r))\n",
    "\n",
    "    return sorted(allRecomandations, key=lambda recommendation: recommendation[1], reverse=True)\n",
    "\n",
    "top_n = get_top_n(predictions, userId=searchedUserId)\n",
    "print(top_n)"
   ]
  }
 ],
 "metadata": {
  "kernelspec": {
   "display_name": "Python 3.11.0 64-bit",
   "language": "python",
   "name": "python3"
  },
  "language_info": {
   "codemirror_mode": {
    "name": "ipython",
    "version": 3
   },
   "file_extension": ".py",
   "mimetype": "text/x-python",
   "name": "python",
   "nbconvert_exporter": "python",
   "pygments_lexer": "ipython3",
   "version": "3.11.0"
  },
  "orig_nbformat": 4,
  "vscode": {
   "interpreter": {
    "hash": "5238573367df39f7286bb46f9ff5f08f63a01a80960060ce41e3c79b190280fa"
   }
  }
 },
 "nbformat": 4,
 "nbformat_minor": 2
}
