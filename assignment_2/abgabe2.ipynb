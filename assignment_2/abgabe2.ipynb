{
 "cells": [
  {
   "cell_type": "code",
   "execution_count": 54,
   "metadata": {},
   "outputs": [],
   "source": [
    "from surprise import Dataset, SlopeOne\n",
    "from surprise.model_selection import train_test_split\n",
    "\n",
    "data = Dataset.load_builtin('ml-100k')\n",
    "trainset, testset = train_test_split(data, test_size=.30)\n",
    "\n",
    "algo = SlopeOne()\n",
    "algo.fit(trainset)\n",
    "predictions = algo.test(testset)"
   ]
  },
  {
   "cell_type": "markdown",
   "metadata": {},
   "source": []
  },
  {
   "cell_type": "code",
   "execution_count": 61,
   "metadata": {},
   "outputs": [
    {
     "name": "stdout",
     "output_type": "stream",
     "text": [
      "[('825', 2.571259287505549, 3.0), ('597', 2.7369294030167683, 3.0), ('535', 2.7586242181469025, 4.0), ('294', 2.8428740679535736, 4.0), ('471', 3.1728949659248253, 5.0), ('288', 3.1744808847637493, 4.0), ('300', 3.2552052852533424, 5.0), ('742', 3.283928296115315, 5.0), ('117', 3.2953426295956363, 3.0), ('282', 3.3668472597108066, 3.0), ('257', 3.4148403973665338, 3.0), ('248', 3.4475134163384316, 4.0), ('258', 3.4609146681301306, 4.0), ('298', 3.4729159748874157, 4.0), ('50', 4.0716153076959944, 5.0)]\n"
     ]
    }
   ],
   "source": [
    "searchedUserId = testset[0][0]\n",
    "\n",
    "def get_top_n(predictions, n=10, userId=1):\n",
    "    top_n = []\n",
    "\n",
    "    for uid, iid, true_r, est, _ in predictions:\n",
    "        if uid == userId:\n",
    "            top_n.append((iid, est, true_r))\n",
    "\n",
    "    return sorted(top_n, key=lambda recommendation: recommendation[1], reverse=True)\n",
    "\n",
    "top_n = get_top_n(predictions, n=10, userId=searchedUserId)\n",
    "print(top_n)"
   ]
  }
 ],
 "metadata": {
  "kernelspec": {
   "display_name": "Python 3.11.0 64-bit",
   "language": "python",
   "name": "python3"
  },
  "language_info": {
   "codemirror_mode": {
    "name": "ipython",
    "version": 3
   },
   "file_extension": ".py",
   "mimetype": "text/x-python",
   "name": "python",
   "nbconvert_exporter": "python",
   "pygments_lexer": "ipython3",
   "version": "3.11.0"
  },
  "orig_nbformat": 4,
  "vscode": {
   "interpreter": {
    "hash": "5238573367df39f7286bb46f9ff5f08f63a01a80960060ce41e3c79b190280fa"
   }
  }
 },
 "nbformat": 4,
 "nbformat_minor": 2
}
