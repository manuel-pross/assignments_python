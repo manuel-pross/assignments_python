{
 "cells": [
  {
   "cell_type": "code",
   "execution_count": 119,
   "metadata": {},
   "outputs": [],
   "source": [
    "from surprise import Dataset, SlopeOne, accuracy\n",
    "from surprise.model_selection import train_test_split\n",
    "\n",
    "data = Dataset.load_builtin('ml-100k')\n",
    "trainset, testset = train_test_split(data, test_size=.20)\n",
    "\n",
    "algo = SlopeOne()\n",
    "algo.fit(trainset)\n",
    "predictions = algo.test(testset)"
   ]
  },
  {
   "cell_type": "markdown",
   "metadata": {},
   "source": []
  },
  {
   "cell_type": "code",
   "execution_count": 120,
   "metadata": {},
   "outputs": [
    {
     "name": "stdout",
     "output_type": "stream",
     "text": [
      "[('483', 4.029492482115752, 5.0), ('511', 3.937326795283683, 5.0), ('223', 3.8693331253824743, 3.0), ('136', 3.8554970924208227, 4.0), ('191', 3.8474786810262143, 4.0), ('100', 3.8390881294078802, 4.0), ('315', 3.7787439571317143, 3.0), ('23', 3.7430262832224175, 3.0), ('183', 3.7233945091953387, 4.0), ('132', 3.6919111366672954, 4.0), ('180', 3.6774933537129533, 3.0), ('705', 3.6762763432425034, 4.0), ('523', 3.6450155062140883, 3.0), ('499', 3.6333140748717634, 3.0), ('96', 3.6070523932309757, 4.0), ('601', 3.564804988392102, 3.0), ('203', 3.55697532898726, 3.0), ('1627', 3.5284125, 3.0), ('502', 3.525633384410594, 3.0), ('612', 3.525214894340682, 4.0), ('491', 3.521409990520751, 3.0), ('648', 3.516185131789598, 3.0), ('608', 3.4954040813062406, 4.0), ('186', 3.48932834218203, 4.0), ('175', 3.458924136686357, 4.0), ('588', 3.4526682369740147, 3.0), ('526', 3.4508616893303135, 4.0), ('69', 3.4423477373812243, 2.0), ('969', 3.427229939616894, 3.0), ('517', 3.394371676060315, 3.0), ('443', 3.3942985233562126, 5.0), ('258', 3.3762814632671216, 3.0), ('95', 3.3618966371203243, 3.0), ('378', 3.3339647955325042, 3.0), ('732', 3.310905118779704, 3.0), ('404', 3.30704149589614, 3.0), ('143', 3.298985716798106, 5.0), ('151', 3.28464213938618, 3.0), ('650', 3.212618432266608, 2.0), ('117', 3.1931926697037794, 4.0), ('160', 3.1699339859587417, 3.0), ('1119', 3.1391644929065374, 3.0), ('1050', 3.122462964425492, 3.0), ('1126', 3.1054485196024424, 4.0), ('747', 3.088706106634102, 3.0), ('288', 3.0860939571762245, 3.0), ('121', 3.0787043217533796, 3.0), ('1065', 3.0505494388164207, 4.0), ('230', 3.047987278471858, 4.0), ('662', 3.0478037515889898, 3.0), ('73', 3.028160857311849, 3.0), ('214', 3.0164373031768412, 3.0), ('226', 2.94921877353482, 3.0), ('620', 2.931281464971382, 2.0), ('212', 2.9299932547347196, 3.0), ('301', 2.9221362132353264, 2.0), ('54', 2.9038835539078782, 2.0), ('380', 2.8553872757000036, 2.0), ('219', 2.8515619337659266, 3.0), ('739', 2.8285260783287027, 2.0), ('159', 2.739168318848091, 3.0), ('118', 2.7150853535019768, 4.0), ('371', 2.67571929527751, 2.0), ('737', 2.673582955635634, 2.0), ('1474', 2.654666104908363, 3.0), ('780', 2.6455275831324454, 2.0), ('928', 2.603787685941394, 2.0), ('38', 2.5723056117078062, 3.0), ('155', 2.516768143107411, 2.0), ('355', 2.5058536096227977, 2.0), ('80', 2.4053613448421194, 2.0), ('585', 2.395131183355026, 1.0), ('452', 2.259602637677104, 2.0), ('29', 2.17696675919075, 2.0), ('635', 2.069602105675186, 3.0), ('1031', 1.6343639184397163, 3.0)]\n"
     ]
    }
   ],
   "source": [
    "searchedUserId = testset[0][0]\n",
    "\n",
    "def findGoodItemsTask(predictions, userId=1):\n",
    "    allRecomandations = []\n",
    "\n",
    "    for uid, iid, true_r, est, _ in predictions:\n",
    "        if uid == userId:\n",
    "            allRecomandations.append((iid, est, true_r))\n",
    "\n",
    "    return sorted(allRecomandations, key=lambda recommendation: recommendation[1], reverse=True)\n",
    "\n",
    "recommendations = findGoodItemsTask(predictions, userId=searchedUserId)\n",
    "print(recommendations)"
   ]
  },
  {
   "cell_type": "code",
   "execution_count": 121,
   "metadata": {},
   "outputs": [
    {
     "name": "stdout",
     "output_type": "stream",
     "text": [
      "RMSE: 0.6839\n"
     ]
    },
    {
     "data": {
      "text/plain": [
       "0.6839033855871944"
      ]
     },
     "execution_count": 121,
     "metadata": {},
     "output_type": "execute_result"
    }
   ],
   "source": [
    "for index, recommendation in enumerate(recommendations):\n",
    "    recommendations[index] = (searchedUserId, recommendation[0], recommendation[1], recommendation[2], {'was_impossible': False})\n",
    "\n",
    "accuracy.rmse(recommendations)"
   ]
  },
  {
   "cell_type": "code",
   "execution_count": 122,
   "metadata": {},
   "outputs": [
    {
     "data": {
      "text/plain": [
       "0.8"
      ]
     },
     "execution_count": 122,
     "metadata": {},
     "output_type": "execute_result"
    }
   ],
   "source": [
    "def isItemRelevant(item):\n",
    "    if (item[2] - item[3]) <= .3:\n",
    "        return True\n",
    "    return False\n",
    "        \n",
    "\n",
    "def calculatePrecision(recommendations, threshold=1):\n",
    "    relevantItems = 0\n",
    "    for i in range(threshold):\n",
    "        if isItemRelevant(recommendations[i]):\n",
    "            relevantItems += 1\n",
    "    return relevantItems/threshold\n",
    "\n",
    "\n",
    "calculatePrecision(recommendations, 10)"
   ]
  }
 ],
 "metadata": {
  "kernelspec": {
   "display_name": "Python 3.11.0 64-bit",
   "language": "python",
   "name": "python3"
  },
  "language_info": {
   "codemirror_mode": {
    "name": "ipython",
    "version": 3
   },
   "file_extension": ".py",
   "mimetype": "text/x-python",
   "name": "python",
   "nbconvert_exporter": "python",
   "pygments_lexer": "ipython3",
   "version": "3.11.0"
  },
  "orig_nbformat": 4,
  "vscode": {
   "interpreter": {
    "hash": "5238573367df39f7286bb46f9ff5f08f63a01a80960060ce41e3c79b190280fa"
   }
  }
 },
 "nbformat": 4,
 "nbformat_minor": 2
}
