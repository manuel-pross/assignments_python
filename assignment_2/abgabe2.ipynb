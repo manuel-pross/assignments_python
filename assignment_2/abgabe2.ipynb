{
 "cells": [
  {
   "cell_type": "code",
   "execution_count": null,
   "metadata": {},
   "outputs": [],
   "source": []
  },
  {
   "cell_type": "code",
   "execution_count": 81,
   "metadata": {},
   "outputs": [],
   "source": [
    "# from surprise import Dataset, SlopeOne, accuracy\n",
    "# from surprise.model_selection import train_test_split\n",
    "\n",
    "# data = Dataset.load_builtin('ml-100k')\n",
    "# trainset, testset = train_test_split(data, test_size=.30)\n",
    "\n",
    "# algo = SlopeOne()\n",
    "# algo.fit(trainset)\n",
    "# predictions = algo.test(testset)\n",
    "\n",
    "# accuracy.rmse(predictions, verbose=True)\n",
    "\n",
    "# predictions\n"
   ]
  },
  {
   "cell_type": "code",
   "execution_count": 82,
   "metadata": {},
   "outputs": [],
   "source": [
    "# from collections import defaultdict\n",
    "\n",
    "# def get_top_n(predictions, n=10):\n",
    "#     \"\"\"Return the top-N recommendation for each user from a set of predictions.\n",
    "\n",
    "#     Args:\n",
    "#         predictions(list of Prediction objects): The list of predictions, as\n",
    "#             returned by the test method of an algorithm.\n",
    "#         n(int): The number of recommendation to output for each user. Default\n",
    "#             is 10.\n",
    "\n",
    "#     Returns:\n",
    "#     A dict where keys are user (raw) ids and values are lists of tuples:\n",
    "#         [(raw item id, rating estimation), ...] of size n.\n",
    "#     \"\"\"\n",
    "\n",
    "#     # First map the predictions to each user.\n",
    "#     top_n = []\n",
    "#     for uid, iid, true_r, est, _ in predictions:\n",
    "        \n",
    "#         top_n.append((iid, est))\n",
    "\n",
    "#     # # Then sort the predictions for each user and retrieve the k highest ones.\n",
    "#     # for uid, user_ratings in top_n.items():\n",
    "#     #     user_ratings.sort(key=lambda x: x[1], reverse=True)\n",
    "#     #     top_n[uid] = user_ratings[:n]\n",
    "\n",
    "#     print(top_n);\n",
    "#     return top_n\n",
    "\n",
    "\n",
    "# top_n = get_top_n(predictions, n=10)\n",
    "\n",
    "# # Print the recommended items for each user\n",
    "# # for uid, user_ratings in top_n.items():\n",
    "# #     print(uid, [iid for (iid, _) in user_ratings])"
   ]
  },
  {
   "cell_type": "code",
   "execution_count": 83,
   "metadata": {},
   "outputs": [
    {
     "ename": "ValueError",
     "evalue": "line_format parameter is incorrect.",
     "output_type": "error",
     "traceback": [
      "\u001b[1;31m---------------------------------------------------------------------------\u001b[0m",
      "\u001b[1;31mValueError\u001b[0m                                Traceback (most recent call last)",
      "Cell \u001b[1;32mIn [83], line 12\u001b[0m\n\u001b[0;32m      7\u001b[0m file_path \u001b[39m=\u001b[39m os\u001b[39m.\u001b[39mpath\u001b[39m.\u001b[39mexpanduser(\u001b[39m\"\u001b[39m\u001b[39m/BX_Book/BX-Book-Ratings.csv\u001b[39m\u001b[39m\"\u001b[39m)\n\u001b[0;32m      9\u001b[0m \u001b[39m# As we're loading a custom dataset, we need to define a reader. In the\u001b[39;00m\n\u001b[0;32m     10\u001b[0m \u001b[39m# movielens-100k dataset, each line has the following format:\u001b[39;00m\n\u001b[0;32m     11\u001b[0m \u001b[39m# 'user item rating timestamp', separated by '\\t' characters.\u001b[39;00m\n\u001b[1;32m---> 12\u001b[0m reader \u001b[39m=\u001b[39m Reader(line_format\u001b[39m=\u001b[39;49m\u001b[39m\"\u001b[39;49m\u001b[39mUser-ID ISBN Book-Rating\u001b[39;49m\u001b[39m\"\u001b[39;49m, sep\u001b[39m=\u001b[39;49m\u001b[39m\"\u001b[39;49m\u001b[39m;\u001b[39;49m\u001b[39m\"\u001b[39;49m, skip_lines\u001b[39m=\u001b[39;49m\u001b[39m1\u001b[39;49m)\n\u001b[0;32m     14\u001b[0m data \u001b[39m=\u001b[39m Dataset\u001b[39m.\u001b[39mload_from_file(file_path, reader\u001b[39m=\u001b[39mreader)\n\u001b[0;32m     16\u001b[0m \u001b[39m# We can now use this dataset as we please, e.g. calling cross_validate\u001b[39;00m\n",
      "File \u001b[1;32mc:\\Program Files\\Python311\\Lib\\site-packages\\surprise\\reader.py:79\u001b[0m, in \u001b[0;36mReader.__init__\u001b[1;34m(self, name, line_format, sep, rating_scale, skip_lines)\u001b[0m\n\u001b[0;32m     77\u001b[0m \u001b[39m# check that all fields are correct\u001b[39;00m\n\u001b[0;32m     78\u001b[0m \u001b[39mif\u001b[39;00m \u001b[39many\u001b[39m(field \u001b[39mnot\u001b[39;00m \u001b[39min\u001b[39;00m entities \u001b[39mfor\u001b[39;00m field \u001b[39min\u001b[39;00m splitted_format):\n\u001b[1;32m---> 79\u001b[0m     \u001b[39mraise\u001b[39;00m \u001b[39mValueError\u001b[39;00m(\u001b[39m\"\u001b[39m\u001b[39mline_format parameter is incorrect.\u001b[39m\u001b[39m\"\u001b[39m)\n\u001b[0;32m     81\u001b[0m \u001b[39mself\u001b[39m\u001b[39m.\u001b[39mindexes \u001b[39m=\u001b[39m [splitted_format\u001b[39m.\u001b[39mindex(entity) \u001b[39mfor\u001b[39;00m entity \u001b[39min\u001b[39;00m entities]\n",
      "\u001b[1;31mValueError\u001b[0m: line_format parameter is incorrect."
     ]
    }
   ],
   "source": [
    "import os\n",
    "\n",
    "from surprise import BaselineOnly, Dataset, Reader\n",
    "from surprise.model_selection import cross_validate\n",
    "\n",
    "# path to dataset file\n",
    "file_path = os.path.expanduser(\"./BX_Book/BX-Book-Ratings.csv\")\n",
    "\n",
    "# As we're loading a custom dataset, we need to define a reader. In the\n",
    "# movielens-100k dataset, each line has the following format:\n",
    "# 'user item rating timestamp', separated by '\\t' characters.\n",
    "reader = Reader(line_format=\"User-ID ISBN Book-Rating\", sep=\";\", skip_lines=1)\n",
    "\n",
    "data = Dataset.load_from_file(file_path, reader=reader)\n",
    "\n",
    "# We can now use this dataset as we please, e.g. calling cross_validate\n",
    "cross_validate(BaselineOnly(), data, verbose=True)"
   ]
  },
  {
   "cell_type": "markdown",
   "metadata": {},
   "source": []
  }
 ],
 "metadata": {
  "kernelspec": {
   "display_name": "Python 3.11.0 64-bit",
   "language": "python",
   "name": "python3"
  },
  "language_info": {
   "codemirror_mode": {
    "name": "ipython",
    "version": 3
   },
   "file_extension": ".py",
   "mimetype": "text/x-python",
   "name": "python",
   "nbconvert_exporter": "python",
   "pygments_lexer": "ipython3",
   "version": "3.11.0"
  },
  "orig_nbformat": 4,
  "vscode": {
   "interpreter": {
    "hash": "5238573367df39f7286bb46f9ff5f08f63a01a80960060ce41e3c79b190280fa"
   }
  }
 },
 "nbformat": 4,
 "nbformat_minor": 2
}
