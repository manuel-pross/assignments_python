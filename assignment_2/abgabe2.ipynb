{
 "cells": [
  {
   "cell_type": "code",
   "execution_count": 130,
   "metadata": {},
   "outputs": [],
   "source": [
    "from surprise import Dataset, SlopeOne, accuracy\n",
    "from surprise.model_selection import train_test_split\n",
    "\n",
    "data = Dataset.load_builtin('ml-100k')\n",
    "trainset, testset = train_test_split(data, test_size=.20)\n",
    "\n",
    "algo = SlopeOne()\n",
    "algo.fit(trainset)\n",
    "predictions = algo.test(testset)"
   ]
  },
  {
   "cell_type": "markdown",
   "metadata": {},
   "source": []
  },
  {
   "cell_type": "code",
   "execution_count": 131,
   "metadata": {},
   "outputs": [],
   "source": [
    "searchedUserId = testset[0][0]\n",
    "\n",
    "def findGoodItemsTask(predictions, userId='20'):\n",
    "    allRecomandations = []\n",
    "\n",
    "    for uid, iid, true_r, est, _ in predictions:\n",
    "        if uid == userId:\n",
    "            allRecomandations.append((iid, est, true_r))\n",
    "\n",
    "    return sorted(allRecomandations, key=lambda recommendation: recommendation[1], reverse=True)\n",
    "\n",
    "recommendations = findGoodItemsTask(predictions, userId='20')\n",
    "print(recommendations[0])"
   ]
  },
  {
   "cell_type": "code",
   "execution_count": 132,
   "metadata": {},
   "outputs": [
    {
     "name": "stdout",
     "output_type": "stream",
     "text": [
      "RMSE: 1.4145\n"
     ]
    },
    {
     "data": {
      "text/plain": [
       "1.4145449654486397"
      ]
     },
     "execution_count": 132,
     "metadata": {},
     "output_type": "execute_result"
    }
   ],
   "source": [
    "formattedRecommendations = []\n",
    "\n",
    "for index, recommendation in enumerate(recommendations):\n",
    "    formattedRecommendations.append(('20', recommendation[0], recommendation[1], recommendation[2], {'was_impossible': False}))\n",
    "\n",
    "accuracy.rmse(formattedRecommendations)"
   ]
  },
  {
   "cell_type": "code",
   "execution_count": 133,
   "metadata": {},
   "outputs": [
    {
     "ename": "IndexError",
     "evalue": "tuple index out of range",
     "output_type": "error",
     "traceback": [
      "\u001b[1;31m---------------------------------------------------------------------------\u001b[0m",
      "\u001b[1;31mIndexError\u001b[0m                                Traceback (most recent call last)",
      "Cell \u001b[1;32mIn [133], line 15\u001b[0m\n\u001b[0;32m     11\u001b[0m             relevantItemsRecommended \u001b[39m+\u001b[39m\u001b[39m=\u001b[39m \u001b[39m1\u001b[39m\n\u001b[0;32m     12\u001b[0m     \u001b[39mreturn\u001b[39;00m relevantItemsRecommended\u001b[39m/\u001b[39mthreshold\n\u001b[1;32m---> 15\u001b[0m calculatePrecision(recommendations, \u001b[39mlen\u001b[39;49m(recommendations)\u001b[39m-\u001b[39;49m\u001b[39m3\u001b[39;49m)\n",
      "Cell \u001b[1;32mIn [133], line 10\u001b[0m, in \u001b[0;36mcalculatePrecision\u001b[1;34m(recommendations, threshold)\u001b[0m\n\u001b[0;32m      8\u001b[0m relevantItemsRecommended \u001b[39m=\u001b[39m \u001b[39m0\u001b[39m\n\u001b[0;32m      9\u001b[0m \u001b[39mfor\u001b[39;00m i \u001b[39min\u001b[39;00m \u001b[39mrange\u001b[39m(threshold):\n\u001b[1;32m---> 10\u001b[0m     \u001b[39mif\u001b[39;00m isItemRelevant(recommendations[i]):\n\u001b[0;32m     11\u001b[0m         relevantItemsRecommended \u001b[39m+\u001b[39m\u001b[39m=\u001b[39m \u001b[39m1\u001b[39m\n\u001b[0;32m     12\u001b[0m \u001b[39mreturn\u001b[39;00m relevantItemsRecommended\u001b[39m/\u001b[39mthreshold\n",
      "Cell \u001b[1;32mIn [133], line 2\u001b[0m, in \u001b[0;36misItemRelevant\u001b[1;34m(item)\u001b[0m\n\u001b[0;32m      1\u001b[0m \u001b[39mdef\u001b[39;00m \u001b[39misItemRelevant\u001b[39m(item):\n\u001b[1;32m----> 2\u001b[0m     \u001b[39mif\u001b[39;00m (item[\u001b[39m2\u001b[39m] \u001b[39m-\u001b[39m item[\u001b[39m3\u001b[39;49m]) \u001b[39m>\u001b[39m\u001b[39m=\u001b[39m \u001b[39m0\u001b[39m \u001b[39mand\u001b[39;00m (item[\u001b[39m2\u001b[39m] \u001b[39m-\u001b[39m item[\u001b[39m3\u001b[39m]) \u001b[39m<\u001b[39m\u001b[39m=\u001b[39m \u001b[39m4\u001b[39m:\n\u001b[0;32m      3\u001b[0m         \u001b[39mreturn\u001b[39;00m \u001b[39mTrue\u001b[39;00m\n\u001b[0;32m      4\u001b[0m     \u001b[39mreturn\u001b[39;00m \u001b[39mFalse\u001b[39;00m\n",
      "\u001b[1;31mIndexError\u001b[0m: tuple index out of range"
     ]
    }
   ],
   "source": [
    "def isItemRelevant(item):\n",
    "    if (item[2] - item[3]) >= 0 and (item[2] - item[3]) <= 4:\n",
    "        return True\n",
    "    return False\n",
    "        \n",
    "\n",
    "def calculatePrecision(recommendations, threshold=1):\n",
    "    relevantItemsRecommended = 0\n",
    "    for i in range(threshold):\n",
    "        if isItemRelevant(recommendations[i]):\n",
    "            relevantItemsRecommended += 1\n",
    "    return relevantItemsRecommended/threshold\n",
    "\n",
    "\n",
    "calculatePrecision(recommendations, len(recommendations)-3)"
   ]
  },
  {
   "cell_type": "code",
   "execution_count": null,
   "metadata": {},
   "outputs": [
    {
     "data": {
      "text/plain": [
       "1.0"
      ]
     },
     "execution_count": 93,
     "metadata": {},
     "output_type": "execute_result"
    }
   ],
   "source": [
    "def calculateRecall(recommendations, threshold=1):\n",
    "    relevantItemsRecommended = 0\n",
    "    for i in range(threshold):\n",
    "        if isItemRelevant(recommendations[i]):\n",
    "            relevantItemsRecommended += 1\n",
    "\n",
    "    allRelevantItems = 0\n",
    "    for i in range(len(recommendations)):\n",
    "        if isItemRelevant(recommendations[i]):\n",
    "            allRelevantItems += 1\n",
    "\n",
    "    return relevantItemsRecommended/allRelevantItems\n",
    "\n",
    "calculateRecall(recommendations, len(recommendations)-3)"
   ]
  }
 ],
 "metadata": {
  "kernelspec": {
   "display_name": "Python 3.11.0 64-bit",
   "language": "python",
   "name": "python3"
  },
  "language_info": {
   "codemirror_mode": {
    "name": "ipython",
    "version": 3
   },
   "file_extension": ".py",
   "mimetype": "text/x-python",
   "name": "python",
   "nbconvert_exporter": "python",
   "pygments_lexer": "ipython3",
   "version": "3.11.0"
  },
  "orig_nbformat": 4,
  "vscode": {
   "interpreter": {
    "hash": "5238573367df39f7286bb46f9ff5f08f63a01a80960060ce41e3c79b190280fa"
   }
  }
 },
 "nbformat": 4,
 "nbformat_minor": 2
}
