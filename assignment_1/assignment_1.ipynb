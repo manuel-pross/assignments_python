{
 "cells": [
  {
   "cell_type": "markdown",
   "metadata": {},
   "source": [
    "# Assignment1"
   ]
  },
  {
   "cell_type": "code",
   "execution_count": 122,
   "metadata": {},
   "outputs": [],
   "source": [
    "import math\n",
    "\n",
    "# Neccessary Functions\n",
    "def calculate_dot_product(vector1, vector2, alpha, beta):\n",
    "    sum = 0\n",
    "    for i in range(len(vector1)):\n",
    "        if i == 0:\n",
    "            sum += vector1[i] * vector2[i]\n",
    "        elif i == 1:\n",
    "            sum += (vector1[i] * alpha) * (vector2[i] * alpha)\n",
    "        elif i >= 2:\n",
    "            sum += (vector1[i] * beta) * (vector2[i] * beta)\n",
    "    return sum\n",
    "\n",
    "def calculate_length_of_vector(vector, alpha, beta):\n",
    "    sum = 0\n",
    "    for i in range(len(vector)):\n",
    "        if i == 0:\n",
    "            sum += pow(vector[i], 2)\n",
    "        elif i == 1:\n",
    "            sum += pow(vector[i] * alpha, 2)\n",
    "        elif i >= 2:\n",
    "            sum += pow(vector[i] * beta, 2)\n",
    "    return math.sqrt(sum)\n",
    "\n",
    "def normalizeVector(vector, averages):\n",
    "    normalizedVector = []\n",
    "    for i in range(len(vector)):\n",
    "        normalizedVector.append(vector[i] - averages[i])\n",
    "    return normalizedVector\n",
    "\n",
    "def getWeight(vector, maxPossibleRank):\n",
    "    weightVector = []\n",
    "    for i in range(len(vector)):\n",
    "        weightVector.append(vector[i] / maxPossibleRank)\n",
    "    return weightVector\n",
    "\n",
    "def generateUserProfile(weights, features):\n",
    "    sum = 0\n",
    "    for i in range(len(weights)):\n",
    "        sum += weights[i] * features[i]\n",
    "    return sum\n"
   ]
  },
  {
   "cell_type": "markdown",
   "metadata": {},
   "source": [
    "## Exercise 9.2.1\n",
    "\n",
    "(a) In terms of α and β, compute the cosines of the angles between the vectors\n",
    "for each pair of the three computers.\n",
    "\n",
    "(b) What are the angles between the vectors if α = β = 1?"
   ]
  },
  {
   "cell_type": "code",
   "execution_count": 123,
   "metadata": {},
   "outputs": [
    {
     "name": "stdout",
     "output_type": "stream",
     "text": [
      "Angle between A and B: 0.9999973332836593\n",
      "Angle between B and C: 0.9999878533753953\n",
      "Angle between A and C: 0.9999953431214217\n"
     ]
    }
   ],
   "source": [
    "import math\n",
    "\n",
    "# Feature Vectors of the Computers\n",
    "vectorA = [3.06, 500, 6]\n",
    "vectorB = [2.68, 320, 4]\n",
    "vectorC = [2.92, 640, 6]\n",
    "\n",
    "# Scale Factors\n",
    "alpha1 = 1\n",
    "beta1 = 1\n",
    "\n",
    "# Dot Products of the feature vectors with alpha = 1 and beta = 1\n",
    "dotProductAB1 = calculate_dot_product(vectorA, vectorB, alpha1, beta1)\n",
    "dotProductBC1 = calculate_dot_product(vectorB, vectorC, alpha1, beta1)\n",
    "dotProductAC1 = calculate_dot_product(vectorA, vectorC, alpha1, beta1)\n",
    "\n",
    "# Length of the feature vectors with alpha = 1 and beta = 1\n",
    "lengthA1 = calculate_length_of_vector(vectorA, alpha1, beta1)\n",
    "lengthB1 = calculate_length_of_vector(vectorB, alpha1, beta1)\n",
    "lengthC1 = calculate_length_of_vector(vectorC, alpha1, beta1)\n",
    "\n",
    "# Angles between the feature vectors with alpha = 1 and beta = 1\n",
    "angleAB1 = (dotProductAB1 / (lengthA1 * lengthB1))\n",
    "angleBC1 = (dotProductBC1 / (lengthB1 * lengthC1))\n",
    "angleAC1 = (dotProductAC1 / (lengthA1 * lengthC1))\n",
    "\n",
    "print(f'Angle between A and B: {angleAB1}')\n",
    "print(f'Angle between B and C: {angleBC1}')\n",
    "print(f'Angle between A and C: {angleAC1}')"
   ]
  },
  {
   "cell_type": "markdown",
   "metadata": {},
   "source": [
    "(c) What are the angles between the vectors if α = 0.01 and β = 0.5?"
   ]
  },
  {
   "cell_type": "code",
   "execution_count": 124,
   "metadata": {},
   "outputs": [
    {
     "name": "stdout",
     "output_type": "stream",
     "text": [
      "Angle between A and B: 0.1351472611175092\n",
      "Angle between B and C: 0.24892459032763248\n",
      "Angle between A and C: 0.13005537014708402\n"
     ]
    }
   ],
   "source": [
    "# Scale Factors\n",
    "alpha2 = 0.01\n",
    "beta2 = 0.5\n",
    "\n",
    "# Dot Products of the feature vectors with alpha = 0.01 and beta = 0.5\n",
    "dotProductAB2 = calculate_dot_product(vectorA, vectorB, alpha2, beta2)\n",
    "dotProductBC2 = calculate_dot_product(vectorB, vectorC, alpha2, beta2)\n",
    "dotProductAC2 = calculate_dot_product(vectorA, vectorC, alpha2, beta2)\n",
    "\n",
    "# Length of the feature vectors with alpha = 0.01 and beta = 0.5\n",
    "lengthA2 = calculate_length_of_vector(vectorA, alpha2, beta2)\n",
    "lengthB2 = calculate_length_of_vector(vectorB, alpha2, beta2)\n",
    "lengthC2 = calculate_length_of_vector(vectorC, alpha2, beta2)\n",
    "\n",
    "# Angles between the feature vectors with alpha = 0.01 and beta = 0.5\n",
    "angleAB2 = math.acos(dotProductAB2 / (lengthA2 * lengthB2))\n",
    "angleBC2 = math.acos(dotProductBC2 / (lengthB2 * lengthC2))\n",
    "angleAC2 = math.acos(dotProductAC2 / (lengthA2 * lengthC2))\n",
    "\n",
    "print(f'Angle between A and B: {angleAB2}')\n",
    "print(f'Angle between B and C: {angleBC2}')\n",
    "print(f'Angle between A and C: {angleAC2}')"
   ]
  },
  {
   "cell_type": "markdown",
   "metadata": {},
   "source": [
    "(d) One fair way of selecting scale factors is to make each inversely proportional to the average value in its component. What would be the values\n",
    "of α and β, and what would be the angles between the vectors?"
   ]
  },
  {
   "cell_type": "code",
   "execution_count": 125,
   "metadata": {},
   "outputs": [
    {
     "name": "stdout",
     "output_type": "stream",
     "text": [
      "Scale Factor alpha (Disk Size): 0.002054794520547945\n",
      "Scale Factor beta (Main Memory Size): 0.1875\n",
      "\n",
      "Angle between A and B: 0.10597026469724914\n",
      "Angle between B and C: 0.18871067989554413\n",
      "Angle between A and C: 0.09369322780682596\n"
     ]
    }
   ],
   "source": [
    "# Average of every component\n",
    "avgProcessorSpeed = (vectorA[0] + vectorB[0] + vectorC[0]) / 3\n",
    "avgDiskSize = (vectorA[1] + vectorB[1] + vectorC[1]) / 3\n",
    "avgMainMemSize = (vectorA[2] + vectorB[2] + vectorC[2]) / 3\n",
    "\n",
    "# Make Disk Size and Main Memory Size Inversily Proportional\n",
    "invPropDiskSize = 1 / avgDiskSize\n",
    "invPropMainMem = 1 / avgMainMemSize\n",
    "\n",
    "print(f'Scale Factor alpha (Disk Size): {invPropDiskSize}')\n",
    "print(f'Scale Factor beta (Main Memory Size): {invPropMainMem}\\n')\n",
    "\n",
    "# Dot Products of feature Vectors with alpha = invPropDiskSize and beta = invPropMainMem\n",
    "dotProductAB3 = calculate_dot_product(vectorA, vectorB, invPropDiskSize, invPropMainMem)\n",
    "dotProductBC3 = calculate_dot_product(vectorB, vectorC, invPropDiskSize, invPropMainMem)\n",
    "dotProductAC3 = calculate_dot_product(vectorA, vectorC, invPropDiskSize, invPropMainMem)\n",
    "\n",
    "# Length of the feature vectors with alpha = invPropDiskSize and beta = invPropMainMem\n",
    "lengthA3 = calculate_length_of_vector(vectorA, invPropDiskSize, invPropMainMem)\n",
    "lengthB3 = calculate_length_of_vector(vectorB, invPropDiskSize, invPropMainMem)\n",
    "lengthC3 = calculate_length_of_vector(vectorC, invPropDiskSize, invPropMainMem)\n",
    "\n",
    "# Angles between the feature vectors with alpha = invPropDiskSize and beta = invPropMainMem\n",
    "angleAB3 = math.acos(dotProductAB3 / (lengthA3 * lengthB3))\n",
    "angleBC3 = math.acos(dotProductBC3 / (lengthB3 * lengthC3))\n",
    "angleAC3 = math.acos(dotProductAC3 / (lengthA3 * lengthC3))\n",
    "\n",
    "print(f'Angle between A and B: {angleAB3}')\n",
    "print(f'Angle between B and C: {angleBC3}')\n",
    "print(f'Angle between A and C: {angleAC3}')"
   ]
  },
  {
   "cell_type": "markdown",
   "metadata": {},
   "source": [
    "## Exercise 9.2.3"
   ]
  },
  {
   "cell_type": "markdown",
   "metadata": {},
   "source": [
    "(a) Normalize the vectors for the three computers described in Exercise 9.2.1."
   ]
  },
  {
   "cell_type": "code",
   "execution_count": 126,
   "metadata": {},
   "outputs": [
    {
     "name": "stdout",
     "output_type": "stream",
     "text": [
      "Normalized vector A:\n",
      "[0.17333333333333334, 13.333333333333314, 0.666666666666667]\n",
      "Normalized vector B:\n",
      "[-0.20666666666666655, -166.66666666666669, -1.333333333333333]\n",
      "Normalized vector C:\n",
      "[0.033333333333333215, 153.33333333333331, 0.666666666666667]\n"
     ]
    }
   ],
   "source": [
    "# Normalizing the vectors\n",
    "avgVector = [avgProcessorSpeed, avgDiskSize, avgMainMemSize]\n",
    "normalizedVectorA = normalizeVector(vectorA, avgVector)\n",
    "normalizedVectorB = normalizeVector(vectorB, avgVector)\n",
    "normalizedVectorC = normalizeVector(vectorC, avgVector)\n",
    "\n",
    "print(f'Normalized vector A:')\n",
    "print(normalizedVectorA)\n",
    "print(f'Normalized vector B:')\n",
    "print(normalizedVectorB)\n",
    "print(f'Normalized vector C:')\n",
    "print(normalizedVectorC)"
   ]
  },
  {
   "cell_type": "markdown",
   "metadata": {},
   "source": [
    "(b) This question does not require difficult calculation, but it requires some\n",
    "serious thought about what angles between vectors mean. When all components are nonnegative, as they are in the data of Exercise 9.2.1, no\n",
    "vectors can have an angle greater than 90 degrees. However, when we\n",
    "normalize vectors, we can (and must) get some negative components, so\n",
    "the angles can now be anything, that is, 0 to 180 degrees. Moreover,\n",
    "averages are now 0 in every component, so the suggestion in part (d) of\n",
    "Exercise 9.2.1 that we should scale in inverse proportion to the average\n",
    "makes no sense. Suggest a way of finding an appropriate scale for each\n",
    "component of normalized vectors. How would you interpret a large or\n",
    "small angle between normalized vectors? What would the angles be for\n",
    "the normalized vectors derived from the data in Exercise 9.2.1?\n"
   ]
  },
  {
   "cell_type": "markdown",
   "metadata": {},
   "source": [
    "Answer: Neben dem arithmetischen Mittel gibt es auch noch den Median, welchen man benutzen könnte. Aber egal wie man normalisiert ein kleiner Winkel zwischen Vektoren bedeutet immer, dass sie in eine ähnliche Richtung zeigen. Bezüglich der einzelnen Items der Vektoren könnte man annehmen, dass sie alle nah am Mittelwert sind."
   ]
  },
  {
   "cell_type": "code",
   "execution_count": 127,
   "metadata": {},
   "outputs": [
    {
     "name": "stdout",
     "output_type": "stream",
     "text": [
      "Angle between the normalized Vectors A and B: 3.098023028822487\n",
      "Angle between the normalized Vectors B and C: 3.137800164971016\n",
      "Angle between the normalized Vectors A and C: 0.04736211338607804\n"
     ]
    }
   ],
   "source": [
    "# Dot product of the normalized Vectors\n",
    "dotProductNormVecAB = calculate_dot_product(normalizedVectorA, normalizedVectorB, 1, 1)\n",
    "dotProductNormVecBC = calculate_dot_product(normalizedVectorB, normalizedVectorC, 1, 1)\n",
    "dotProductNormVecAC = calculate_dot_product(normalizedVectorA, normalizedVectorC, 1, 1)\n",
    "\n",
    "# Length of normalized Vectors\n",
    "lengthNormVecA = calculate_length_of_vector(normalizedVectorA, 1, 1)\n",
    "lengthNormVecB = calculate_length_of_vector(normalizedVectorB, 1, 1)\n",
    "lengthNormVecC = calculate_length_of_vector(normalizedVectorC, 1, 1)\n",
    "\n",
    "# Angles between the normalized Vectors\n",
    "angleNormVecAB = math.acos(dotProductNormVecAB / (lengthNormVecA * lengthNormVecB))\n",
    "angleNormVecBC = math.acos(dotProductNormVecBC / (lengthNormVecB * lengthNormVecC))\n",
    "angleNormVecAC = math.acos(dotProductNormVecAC / (lengthNormVecA * lengthNormVecC))\n",
    "\n",
    "print(f'Angle between the normalized Vectors A and B: {angleNormVecAB}')\n",
    "print(f'Angle between the normalized Vectors B and C: {angleNormVecBC}')\n",
    "print(f'Angle between the normalized Vectors A and C: {angleNormVecAC}')"
   ]
  },
  {
   "cell_type": "markdown",
   "metadata": {},
   "source": [
    "## Exercise 9.2.3"
   ]
  },
  {
   "cell_type": "markdown",
   "metadata": {},
   "source": [
    "(a) Normalize the ratings for this user."
   ]
  },
  {
   "cell_type": "code",
   "execution_count": 128,
   "metadata": {},
   "outputs": [
    {
     "name": "stdout",
     "output_type": "stream",
     "text": [
      "Normalized user rating vector: [0.3333333333333335, -1.6666666666666665, 1.3333333333333335]\n"
     ]
    }
   ],
   "source": [
    "# user vector\n",
    "userVector = [4.0, 2.0, 5.0]\n",
    "\n",
    "# average user rating\n",
    "averageUserRating = sum(userVector) / len(userVector)\n",
    "\n",
    "# Normalizing the vector for user ratings\n",
    "normalizedUserVec = normalizeVector(userVector, [averageUserRating, averageUserRating, averageUserRating])\n",
    "\n",
    "print(f'Normalized user rating vector: {normalizedUserVec}')"
   ]
  },
  {
   "cell_type": "markdown",
   "metadata": {},
   "source": [
    "(b) Compute a user profile for the user, with components for processor speed,\n",
    "disk size, and main memory size, based on the data of Exercise 9.2.1."
   ]
  },
  {
   "cell_type": "code",
   "execution_count": 129,
   "metadata": {},
   "outputs": [
    {
     "name": "stdout",
     "output_type": "stream",
     "text": [
      "[6.44, 1168.0, 12.4]\n"
     ]
    }
   ],
   "source": [
    "# User weights\n",
    "userWeights = getWeight(userVector, 5)\n",
    "\n",
    "userProfile = []\n",
    "\n",
    "# User profile for specific features\n",
    "userProfileProcessor = generateUserProfile(userWeights, processorSpeedVec)\n",
    "userProfileDiskSize = generateUserProfile(userWeights, diskSizeVec)\n",
    "userProfileMainMemSize = generateUserProfile(userWeights, mainMemSizeVec)\n",
    "\n",
    "# Add all profiles in one vector\n",
    "userProfile.append(userProfileProcessor)\n",
    "userProfile.append(userProfileDiskSize)\n",
    "userProfile.append(userProfileMainMemSize)\n",
    "\n",
    "print(userProfile)"
   ]
  }
 ],
 "metadata": {
  "kernelspec": {
   "display_name": "Python 3.9.13 ('base')",
   "language": "python",
   "name": "python3"
  },
  "language_info": {
   "codemirror_mode": {
    "name": "ipython",
    "version": 3
   },
   "file_extension": ".py",
   "mimetype": "text/x-python",
   "name": "python",
   "nbconvert_exporter": "python",
   "pygments_lexer": "ipython3",
   "version": "3.9.13"
  },
  "orig_nbformat": 4,
  "vscode": {
   "interpreter": {
    "hash": "2c23ec6ae1a9c89bcf0df045e3b9cb63ff6c52e70780334d2155967d96d29389"
   }
  }
 },
 "nbformat": 4,
 "nbformat_minor": 2
}
